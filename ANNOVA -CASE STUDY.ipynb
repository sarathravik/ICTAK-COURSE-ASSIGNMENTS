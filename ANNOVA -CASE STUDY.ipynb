{
 "cells": [
  {
   "cell_type": "markdown",
   "metadata": {},
   "source": [
    "## Importing Libraries"
   ]
  },
  {
   "cell_type": "code",
   "execution_count": 30,
   "metadata": {},
   "outputs": [],
   "source": [
    "import pandas as pd\n",
    "import scipy.stats as stats\n",
    "import numpy as np"
   ]
  },
  {
   "cell_type": "markdown",
   "metadata": {},
   "source": [
    "## import and read data"
   ]
  },
  {
   "cell_type": "code",
   "execution_count": 31,
   "metadata": {},
   "outputs": [
    {
     "data": {
      "text/html": [
       "<div>\n",
       "<style scoped>\n",
       "    .dataframe tbody tr th:only-of-type {\n",
       "        vertical-align: middle;\n",
       "    }\n",
       "\n",
       "    .dataframe tbody tr th {\n",
       "        vertical-align: top;\n",
       "    }\n",
       "\n",
       "    .dataframe thead th {\n",
       "        text-align: right;\n",
       "    }\n",
       "</style>\n",
       "<table border=\"1\" class=\"dataframe\">\n",
       "  <thead>\n",
       "    <tr style=\"text-align: right;\">\n",
       "      <th></th>\n",
       "      <th>Month</th>\n",
       "      <th>Zone - A</th>\n",
       "      <th>Zone - B</th>\n",
       "      <th>Zone - C</th>\n",
       "      <th>Zone - D</th>\n",
       "    </tr>\n",
       "  </thead>\n",
       "  <tbody>\n",
       "    <tr>\n",
       "      <th>0</th>\n",
       "      <td>Month - 1</td>\n",
       "      <td>1483525</td>\n",
       "      <td>1748451</td>\n",
       "      <td>1523308</td>\n",
       "      <td>2267260</td>\n",
       "    </tr>\n",
       "    <tr>\n",
       "      <th>1</th>\n",
       "      <td>Month - 2</td>\n",
       "      <td>1238428</td>\n",
       "      <td>1707421</td>\n",
       "      <td>2212113</td>\n",
       "      <td>1994341</td>\n",
       "    </tr>\n",
       "    <tr>\n",
       "      <th>2</th>\n",
       "      <td>Month - 3</td>\n",
       "      <td>1860771</td>\n",
       "      <td>2091194</td>\n",
       "      <td>1282374</td>\n",
       "      <td>1241600</td>\n",
       "    </tr>\n",
       "    <tr>\n",
       "      <th>3</th>\n",
       "      <td>Month - 4</td>\n",
       "      <td>1871571</td>\n",
       "      <td>1759617</td>\n",
       "      <td>2290580</td>\n",
       "      <td>2252681</td>\n",
       "    </tr>\n",
       "    <tr>\n",
       "      <th>4</th>\n",
       "      <td>Month - 5</td>\n",
       "      <td>1244922</td>\n",
       "      <td>1606010</td>\n",
       "      <td>1818334</td>\n",
       "      <td>1326062</td>\n",
       "    </tr>\n",
       "  </tbody>\n",
       "</table>\n",
       "</div>"
      ],
      "text/plain": [
       "       Month  Zone - A  Zone - B  Zone - C  Zone - D\n",
       "0  Month - 1   1483525   1748451   1523308   2267260\n",
       "1  Month - 2   1238428   1707421   2212113   1994341\n",
       "2  Month - 3   1860771   2091194   1282374   1241600\n",
       "3  Month - 4   1871571   1759617   2290580   2252681\n",
       "4  Month - 5   1244922   1606010   1818334   1326062"
      ]
     },
     "execution_count": 31,
     "metadata": {},
     "output_type": "execute_result"
    }
   ],
   "source": [
    "data=pd.read_csv('Sales_data_zone_wise.csv')\n",
    "data.head()"
   ]
  },
  {
   "cell_type": "code",
   "execution_count": 32,
   "metadata": {},
   "outputs": [
    {
     "data": {
      "text/plain": [
       "Month       0\n",
       "Zone - A    0\n",
       "Zone - B    0\n",
       "Zone - C    0\n",
       "Zone - D    0\n",
       "dtype: int64"
      ]
     },
     "execution_count": 32,
     "metadata": {},
     "output_type": "execute_result"
    }
   ],
   "source": [
    "data.isna().sum() #checking for null values"
   ]
  },
  {
   "cell_type": "code",
   "execution_count": 33,
   "metadata": {},
   "outputs": [
    {
     "data": {
      "text/html": [
       "<div>\n",
       "<style scoped>\n",
       "    .dataframe tbody tr th:only-of-type {\n",
       "        vertical-align: middle;\n",
       "    }\n",
       "\n",
       "    .dataframe tbody tr th {\n",
       "        vertical-align: top;\n",
       "    }\n",
       "\n",
       "    .dataframe thead th {\n",
       "        text-align: right;\n",
       "    }\n",
       "</style>\n",
       "<table border=\"1\" class=\"dataframe\">\n",
       "  <thead>\n",
       "    <tr style=\"text-align: right;\">\n",
       "      <th></th>\n",
       "      <th>Zone - A</th>\n",
       "      <th>Zone - B</th>\n",
       "      <th>Zone - C</th>\n",
       "      <th>Zone - D</th>\n",
       "    </tr>\n",
       "  </thead>\n",
       "  <tbody>\n",
       "    <tr>\n",
       "      <th>count</th>\n",
       "      <td>2.900000e+01</td>\n",
       "      <td>2.900000e+01</td>\n",
       "      <td>2.900000e+01</td>\n",
       "      <td>2.900000e+01</td>\n",
       "    </tr>\n",
       "    <tr>\n",
       "      <th>mean</th>\n",
       "      <td>1.540493e+06</td>\n",
       "      <td>1.755560e+06</td>\n",
       "      <td>1.772871e+06</td>\n",
       "      <td>1.842927e+06</td>\n",
       "    </tr>\n",
       "    <tr>\n",
       "      <th>std</th>\n",
       "      <td>2.619401e+05</td>\n",
       "      <td>1.683899e+05</td>\n",
       "      <td>3.331937e+05</td>\n",
       "      <td>3.750165e+05</td>\n",
       "    </tr>\n",
       "    <tr>\n",
       "      <th>min</th>\n",
       "      <td>1.128185e+06</td>\n",
       "      <td>1.527574e+06</td>\n",
       "      <td>1.237722e+06</td>\n",
       "      <td>1.234311e+06</td>\n",
       "    </tr>\n",
       "    <tr>\n",
       "      <th>25%</th>\n",
       "      <td>1.305972e+06</td>\n",
       "      <td>1.606010e+06</td>\n",
       "      <td>1.523308e+06</td>\n",
       "      <td>1.520406e+06</td>\n",
       "    </tr>\n",
       "    <tr>\n",
       "      <th>50%</th>\n",
       "      <td>1.534390e+06</td>\n",
       "      <td>1.740365e+06</td>\n",
       "      <td>1.767047e+06</td>\n",
       "      <td>1.854412e+06</td>\n",
       "    </tr>\n",
       "    <tr>\n",
       "      <th>75%</th>\n",
       "      <td>1.820196e+06</td>\n",
       "      <td>1.875658e+06</td>\n",
       "      <td>2.098463e+06</td>\n",
       "      <td>2.180416e+06</td>\n",
       "    </tr>\n",
       "    <tr>\n",
       "      <th>max</th>\n",
       "      <td>2.004480e+06</td>\n",
       "      <td>2.091194e+06</td>\n",
       "      <td>2.290580e+06</td>\n",
       "      <td>2.364132e+06</td>\n",
       "    </tr>\n",
       "  </tbody>\n",
       "</table>\n",
       "</div>"
      ],
      "text/plain": [
       "           Zone - A      Zone - B      Zone - C      Zone - D\n",
       "count  2.900000e+01  2.900000e+01  2.900000e+01  2.900000e+01\n",
       "mean   1.540493e+06  1.755560e+06  1.772871e+06  1.842927e+06\n",
       "std    2.619401e+05  1.683899e+05  3.331937e+05  3.750165e+05\n",
       "min    1.128185e+06  1.527574e+06  1.237722e+06  1.234311e+06\n",
       "25%    1.305972e+06  1.606010e+06  1.523308e+06  1.520406e+06\n",
       "50%    1.534390e+06  1.740365e+06  1.767047e+06  1.854412e+06\n",
       "75%    1.820196e+06  1.875658e+06  2.098463e+06  2.180416e+06\n",
       "max    2.004480e+06  2.091194e+06  2.290580e+06  2.364132e+06"
      ]
     },
     "execution_count": 33,
     "metadata": {},
     "output_type": "execute_result"
    }
   ],
   "source": [
    "data.describe() # checking statics of the data"
   ]
  },
  {
   "cell_type": "markdown",
   "metadata": {},
   "source": [
    "### Total sales of each zone per month"
   ]
  },
  {
   "cell_type": "code",
   "execution_count": 34,
   "metadata": {},
   "outputs": [
    {
     "data": {
      "text/html": [
       "<div>\n",
       "<style scoped>\n",
       "    .dataframe tbody tr th:only-of-type {\n",
       "        vertical-align: middle;\n",
       "    }\n",
       "\n",
       "    .dataframe tbody tr th {\n",
       "        vertical-align: top;\n",
       "    }\n",
       "\n",
       "    .dataframe thead th {\n",
       "        text-align: right;\n",
       "    }\n",
       "</style>\n",
       "<table border=\"1\" class=\"dataframe\">\n",
       "  <thead>\n",
       "    <tr style=\"text-align: right;\">\n",
       "      <th></th>\n",
       "      <th>Total Sales</th>\n",
       "    </tr>\n",
       "    <tr>\n",
       "      <th>Month</th>\n",
       "      <th></th>\n",
       "    </tr>\n",
       "  </thead>\n",
       "  <tbody>\n",
       "    <tr>\n",
       "      <th>Month - 1</th>\n",
       "      <td>7022544</td>\n",
       "    </tr>\n",
       "    <tr>\n",
       "      <th>Month - 2</th>\n",
       "      <td>7152303</td>\n",
       "    </tr>\n",
       "    <tr>\n",
       "      <th>Month - 3</th>\n",
       "      <td>6475939</td>\n",
       "    </tr>\n",
       "    <tr>\n",
       "      <th>Month - 4</th>\n",
       "      <td>8174449</td>\n",
       "    </tr>\n",
       "    <tr>\n",
       "      <th>Month - 5</th>\n",
       "      <td>5995328</td>\n",
       "    </tr>\n",
       "    <tr>\n",
       "      <th>Month - 6</th>\n",
       "      <td>7151387</td>\n",
       "    </tr>\n",
       "    <tr>\n",
       "      <th>Month - 7</th>\n",
       "      <td>7287108</td>\n",
       "    </tr>\n",
       "    <tr>\n",
       "      <th>Month - 8</th>\n",
       "      <td>7816299</td>\n",
       "    </tr>\n",
       "    <tr>\n",
       "      <th>Month - 9</th>\n",
       "      <td>6703395</td>\n",
       "    </tr>\n",
       "    <tr>\n",
       "      <th>Month - 10</th>\n",
       "      <td>7128210</td>\n",
       "    </tr>\n",
       "    <tr>\n",
       "      <th>Month - 11</th>\n",
       "      <td>7032783</td>\n",
       "    </tr>\n",
       "    <tr>\n",
       "      <th>Month - 12</th>\n",
       "      <td>6111084</td>\n",
       "    </tr>\n",
       "    <tr>\n",
       "      <th>Month - 13</th>\n",
       "      <td>5925424</td>\n",
       "    </tr>\n",
       "    <tr>\n",
       "      <th>Month - 14</th>\n",
       "      <td>7155515</td>\n",
       "    </tr>\n",
       "    <tr>\n",
       "      <th>Month - 15</th>\n",
       "      <td>5934156</td>\n",
       "    </tr>\n",
       "    <tr>\n",
       "      <th>Month - 16</th>\n",
       "      <td>6506659</td>\n",
       "    </tr>\n",
       "    <tr>\n",
       "      <th>Month - 17</th>\n",
       "      <td>7149383</td>\n",
       "    </tr>\n",
       "    <tr>\n",
       "      <th>Month - 18</th>\n",
       "      <td>7083490</td>\n",
       "    </tr>\n",
       "    <tr>\n",
       "      <th>Month - 19</th>\n",
       "      <td>6971953</td>\n",
       "    </tr>\n",
       "    <tr>\n",
       "      <th>Month - 20</th>\n",
       "      <td>7124599</td>\n",
       "    </tr>\n",
       "    <tr>\n",
       "      <th>Month - 21</th>\n",
       "      <td>7389597</td>\n",
       "    </tr>\n",
       "    <tr>\n",
       "      <th>Month - 22</th>\n",
       "      <td>7560001</td>\n",
       "    </tr>\n",
       "    <tr>\n",
       "      <th>Month - 23</th>\n",
       "      <td>6687919</td>\n",
       "    </tr>\n",
       "    <tr>\n",
       "      <th>Month - 24</th>\n",
       "      <td>7784747</td>\n",
       "    </tr>\n",
       "    <tr>\n",
       "      <th>Month - 25</th>\n",
       "      <td>6095918</td>\n",
       "    </tr>\n",
       "    <tr>\n",
       "      <th>Month - 26</th>\n",
       "      <td>6512360</td>\n",
       "    </tr>\n",
       "    <tr>\n",
       "      <th>Month - 27</th>\n",
       "      <td>6267918</td>\n",
       "    </tr>\n",
       "    <tr>\n",
       "      <th>Month - 28</th>\n",
       "      <td>7470920</td>\n",
       "    </tr>\n",
       "    <tr>\n",
       "      <th>Month - 29</th>\n",
       "      <td>6772277</td>\n",
       "    </tr>\n",
       "  </tbody>\n",
       "</table>\n",
       "</div>"
      ],
      "text/plain": [
       "            Total Sales\n",
       "Month                  \n",
       "Month - 1       7022544\n",
       "Month - 2       7152303\n",
       "Month - 3       6475939\n",
       "Month - 4       8174449\n",
       "Month - 5       5995328\n",
       "Month - 6       7151387\n",
       "Month - 7       7287108\n",
       "Month - 8       7816299\n",
       "Month - 9       6703395\n",
       "Month - 10      7128210\n",
       "Month - 11      7032783\n",
       "Month - 12      6111084\n",
       "Month - 13      5925424\n",
       "Month - 14      7155515\n",
       "Month - 15      5934156\n",
       "Month - 16      6506659\n",
       "Month - 17      7149383\n",
       "Month - 18      7083490\n",
       "Month - 19      6971953\n",
       "Month - 20      7124599\n",
       "Month - 21      7389597\n",
       "Month - 22      7560001\n",
       "Month - 23      6687919\n",
       "Month - 24      7784747\n",
       "Month - 25      6095918\n",
       "Month - 26      6512360\n",
       "Month - 27      6267918\n",
       "Month - 28      7470920\n",
       "Month - 29      6772277"
      ]
     },
     "execution_count": 34,
     "metadata": {},
     "output_type": "execute_result"
    }
   ],
   "source": [
    "total_sales_per_month=pd.DataFrame(data=data.sum(axis=1),columns=['Total Sales'])\n",
    "total_sales_per_month.index=data['Month']\n",
    "total_sales_per_month"
   ]
  },
  {
   "cell_type": "markdown",
   "metadata": {},
   "source": [
    "### Mean sales per zone"
   ]
  },
  {
   "cell_type": "code",
   "execution_count": 35,
   "metadata": {},
   "outputs": [
    {
     "data": {
      "text/html": [
       "<div>\n",
       "<style scoped>\n",
       "    .dataframe tbody tr th:only-of-type {\n",
       "        vertical-align: middle;\n",
       "    }\n",
       "\n",
       "    .dataframe tbody tr th {\n",
       "        vertical-align: top;\n",
       "    }\n",
       "\n",
       "    .dataframe thead th {\n",
       "        text-align: right;\n",
       "    }\n",
       "</style>\n",
       "<table border=\"1\" class=\"dataframe\">\n",
       "  <thead>\n",
       "    <tr style=\"text-align: right;\">\n",
       "      <th></th>\n",
       "      <th>Mean Sales</th>\n",
       "    </tr>\n",
       "  </thead>\n",
       "  <tbody>\n",
       "    <tr>\n",
       "      <th>Zone - A</th>\n",
       "      <td>1540493.0</td>\n",
       "    </tr>\n",
       "    <tr>\n",
       "      <th>Zone - B</th>\n",
       "      <td>1755560.0</td>\n",
       "    </tr>\n",
       "    <tr>\n",
       "      <th>Zone - C</th>\n",
       "      <td>1772871.0</td>\n",
       "    </tr>\n",
       "    <tr>\n",
       "      <th>Zone - D</th>\n",
       "      <td>1842927.0</td>\n",
       "    </tr>\n",
       "  </tbody>\n",
       "</table>\n",
       "</div>"
      ],
      "text/plain": [
       "          Mean Sales\n",
       "Zone - A   1540493.0\n",
       "Zone - B   1755560.0\n",
       "Zone - C   1772871.0\n",
       "Zone - D   1842927.0"
      ]
     },
     "execution_count": 35,
     "metadata": {},
     "output_type": "execute_result"
    }
   ],
   "source": [
    "mean_sales_zone=pd.DataFrame(data=np.round(data.mean()),columns=['Mean Sales'])\n",
    "mean_sales_zone\n"
   ]
  },
  {
   "cell_type": "markdown",
   "metadata": {},
   "source": [
    "### Company wants to check whether all the zones generate the same amount of sales"
   ]
  },
  {
   "cell_type": "markdown",
   "metadata": {},
   "source": [
    "## ANNOVA"
   ]
  },
  {
   "cell_type": "markdown",
   "metadata": {},
   "source": [
    "### H0 : All the zones generate the same mean sales amount\n",
    "### H1 :Atleast one of the zones have different mean sales amount"
   ]
  },
  {
   "cell_type": "code",
   "execution_count": 36,
   "metadata": {},
   "outputs": [],
   "source": [
    "fvalue,pvalue=stats.f_oneway(data['Zone - A'],data['Zone - B'],data['Zone - C'],data['Zone - D']) "
   ]
  },
  {
   "cell_type": "code",
   "execution_count": 37,
   "metadata": {},
   "outputs": [
    {
     "data": {
      "text/plain": [
       "(5.672056106843581, 0.0011827601694503335)"
      ]
     },
     "execution_count": 37,
     "metadata": {},
     "output_type": "execute_result"
    }
   ],
   "source": [
    "fvalue,pvalue"
   ]
  },
  {
   "cell_type": "markdown",
   "metadata": {},
   "source": [
    "#### Since P value is less than 0.05 we can reject the null hypothesis,so atleast one of the zone have different mean sales amount"
   ]
  }
 ],
 "metadata": {
  "kernelspec": {
   "display_name": "Python 3",
   "language": "python",
   "name": "python3"
  },
  "language_info": {
   "codemirror_mode": {
    "name": "ipython",
    "version": 3
   },
   "file_extension": ".py",
   "mimetype": "text/x-python",
   "name": "python",
   "nbconvert_exporter": "python",
   "pygments_lexer": "ipython3",
   "version": "3.8.5"
  }
 },
 "nbformat": 4,
 "nbformat_minor": 4
}
